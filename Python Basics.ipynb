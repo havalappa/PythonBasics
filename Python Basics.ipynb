{
 "cells": [
  {
   "cell_type": "code",
   "execution_count": 3,
   "metadata": {
    "collapsed": false
   },
   "outputs": [
    {
     "name": "stdout",
     "output_type": "stream",
     "text": [
      "Hello World\n",
      "Hi from India!\n"
     ]
    }
   ],
   "source": [
    "print(\\\n",
    "     \"Hello\\\n",
    " World\")\n",
    "print(\"Hi fr\\\n",
    "om India!\")"
   ]
  },
  {
   "cell_type": "code",
   "execution_count": 5,
   "metadata": {
    "collapsed": false
   },
   "outputs": [
    {
     "name": "stdout",
     "output_type": "stream",
     "text": [
      "Hello World\n",
      "Hi from India!\n"
     ]
    }
   ],
   "source": [
    "print(\"Hello World\"); print(\"Hi from India!\")"
   ]
  },
  {
   "cell_type": "markdown",
   "metadata": {},
   "source": [
    "Use of quotation marks- Single quotes"
   ]
  },
  {
   "cell_type": "code",
   "execution_count": 6,
   "metadata": {
    "collapsed": false
   },
   "outputs": [
    {
     "name": "stdout",
     "output_type": "stream",
     "text": [
      "Hello World\n",
      "Hi from 'India'!\n"
     ]
    }
   ],
   "source": [
    "print('Hello World')\n",
    "print('Hi from \\'India\\'!')"
   ]
  },
  {
   "cell_type": "markdown",
   "metadata": {},
   "source": [
    "Double quotes"
   ]
  },
  {
   "cell_type": "code",
   "execution_count": 7,
   "metadata": {
    "collapsed": false
   },
   "outputs": [
    {
     "name": "stdout",
     "output_type": "stream",
     "text": [
      "Hello World\n",
      "'Hi' from \"India\"!\n"
     ]
    }
   ],
   "source": [
    "print(\"Hello World\")\n",
    "print(\"'Hi' from \\\"India\\\"!\")"
   ]
  },
  {
   "cell_type": "markdown",
   "metadata": {},
   "source": [
    "Comments"
   ]
  },
  {
   "cell_type": "code",
   "execution_count": 8,
   "metadata": {
    "collapsed": false
   },
   "outputs": [
    {
     "name": "stdout",
     "output_type": "stream",
     "text": [
      "Hello World\n",
      "Hi from India\n"
     ]
    }
   ],
   "source": [
    "#Script to print \"Hello World\"\n",
    "#This two lines are comments\n",
    "print(\"Hello World\") #One more comment\n",
    "print(\"Hi from India\") #One more"
   ]
  },
  {
   "cell_type": "code",
   "execution_count": 9,
   "metadata": {
    "collapsed": false
   },
   "outputs": [
    {
     "name": "stdout",
     "output_type": "stream",
     "text": [
      "Hello World!\n"
     ]
    },
    {
     "data": {
      "text/plain": [
       "'\\nHi!\\nThis program just printed Hello World\\nDid you run it!?\\n'"
      ]
     },
     "execution_count": 9,
     "metadata": {},
     "output_type": "execute_result"
    }
   ],
   "source": [
    "#Hi!\n",
    "#This program prints Hello World\n",
    "#I hope you like it\n",
    "# =======================================\n",
    "#\n",
    "print(\"Hello World!\")\n",
    "\"\"\"\n",
    "Hi!\n",
    "This program just printed Hello World\n",
    "Did you run it!?\n",
    "\"\"\""
   ]
  },
  {
   "cell_type": "code",
   "execution_count": null,
   "metadata": {
    "collapsed": true
   },
   "outputs": [],
   "source": []
  }
 ],
 "metadata": {
  "kernelspec": {
   "display_name": "Python 3",
   "language": "python",
   "name": "python3"
  },
  "language_info": {
   "codemirror_mode": {
    "name": "ipython",
    "version": 3
   },
   "file_extension": ".py",
   "mimetype": "text/x-python",
   "name": "python",
   "nbconvert_exporter": "python",
   "pygments_lexer": "ipython3",
   "version": "3.6.0"
  }
 },
 "nbformat": 4,
 "nbformat_minor": 2
}
